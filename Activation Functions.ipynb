{
 "cells": [
  {
   "cell_type": "code",
   "execution_count": 9,
   "id": "ba58eb91",
   "metadata": {},
   "outputs": [],
   "source": [
    "# Importing Libraries\n",
    "import math"
   ]
  },
  {
   "cell_type": "code",
   "execution_count": 10,
   "id": "9ef30803",
   "metadata": {},
   "outputs": [],
   "source": [
    "# Sigmoid Function\n",
    "def sigmoid(x):\n",
    "    return 1 / 1 + math.exp(-x)    "
   ]
  },
  {
   "cell_type": "code",
   "execution_count": 11,
   "id": "c1c6494f",
   "metadata": {},
   "outputs": [],
   "source": [
    "# Tanh Function\n",
    "def tanh(x):\n",
    "    return (math.exp(x) - math.exp(-x)) / (math.exp(x) + math.exp(-x)) "
   ]
  },
  {
   "cell_type": "code",
   "execution_count": 12,
   "id": "954a0b8b",
   "metadata": {},
   "outputs": [],
   "source": [
    "# ReLu (Rectificied Linear Unit) Function \n",
    "def ReLu(x):\n",
    "    return max(0, x)"
   ]
  },
  {
   "cell_type": "code",
   "execution_count": 13,
   "id": "4ac1f89e",
   "metadata": {},
   "outputs": [],
   "source": [
    "# Leaky ReLu Function\n",
    "def LeakyReLu(x):\n",
    "    return max( 0.1 , x)"
   ]
  },
  {
   "cell_type": "code",
   "execution_count": 19,
   "id": "f9c25bed",
   "metadata": {},
   "outputs": [
    {
     "name": "stdout",
     "output_type": "stream",
     "text": [
      "Sigmoid function output for 124 :  1.0\n",
      "Sigmoid function output for -124 :  7.120586326889338e+53\n",
      "Tanh function output for 124 :  1.0\n",
      "Tanh function output for -124 :  -1.0\n",
      "ReLu function output for 124 :  124\n",
      "ReLu function output for -124 :  0\n",
      "Leaky ReLu function output for 124 :  124\n"
     ]
    }
   ],
   "source": [
    "print(\"Sigmoid function output for 124 : \" , sigmoid(124) )\n",
    "print(\"Sigmoid function output for -124 : \" , sigmoid(-124) )\n",
    "print(\"Tanh function output for 124 : \" , tanh(124) )\n",
    "print(\"Tanh function output for -124 : \" , tanh(-124) )\n",
    "print(\"ReLu function output for 124 : \" , ReLu(124) )\n",
    "print(\"ReLu function output for -124 : \" , ReLu(-124) )\n",
    "print(\"Leaky ReLu function output for 124 : \" , LeakyReLu(124) )"
   ]
  },
  {
   "cell_type": "code",
   "execution_count": null,
   "id": "6f856641",
   "metadata": {},
   "outputs": [],
   "source": []
  }
 ],
 "metadata": {
  "kernelspec": {
   "display_name": "Python 3 (ipykernel)",
   "language": "python",
   "name": "python3"
  },
  "language_info": {
   "codemirror_mode": {
    "name": "ipython",
    "version": 3
   },
   "file_extension": ".py",
   "mimetype": "text/x-python",
   "name": "python",
   "nbconvert_exporter": "python",
   "pygments_lexer": "ipython3",
   "version": "3.9.13"
  }
 },
 "nbformat": 4,
 "nbformat_minor": 5
}
